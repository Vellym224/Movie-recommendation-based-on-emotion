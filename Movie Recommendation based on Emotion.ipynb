{
 "cells": [
  {
   "cell_type": "code",
   "execution_count": null,
   "metadata": {},
   "outputs": [],
   "source": [
    "# Python3 code for movie\n",
    "# recommendation based on\n",
    "# emotion\n",
    "\n",
    "from bs4 import BeautifulSoup as sp\n",
    "import re\n",
    "import requests as HTTP\n",
    "import lxml"
   ]
  },
  {
   "cell_type": "code",
   "execution_count": null,
   "metadata": {},
   "outputs": [],
   "source": [
    "def main(emotion):\n",
    "\n",
    "    if(emotion == \"Sad\"):\n",
    "        urlhere = 'http://www.imdb.com/search/title?genres=drama&title_type=feature&sort=moviemeter, asc'\n",
    "\n",
    "    elif(emotion == \"Disgust\"):\n",
    "        urlhere = 'http://www.imdb.com/search/title?genres=musical&title_type=feature&sort=moviemeter, asc'\n",
    "\n",
    "    elif(emotion == \"Anger\"):\n",
    "        urlhere = 'http://www.imdb.com/search/title?genres=family&title_type=feature&sort=moviemeter, asc'\n",
    "\n",
    "    elif(emotion == \"Anticipation\"):\n",
    "        urlhere = 'http://www.imdb.com/search/title?genres=thriller&title_type=feature&sort=moviemeter, asc'\n",
    "\n",
    "    elif(emotion == \"Fear\"):\n",
    "        urlhere = 'http://www.imdb.com/search/title?genres=sport&title_type=feature&sort=moviemeter, asc'\n",
    "\n",
    "    elif(emotion == \"Enjoyment\"):\n",
    "        urlhere = 'http://www.imdb.com/search/title?genres=thriller&title_type=feature&sort=moviemeter, asc'\n",
    "\n",
    "    elif(emotion == \"Trust\"):\n",
    "        urlhere = 'http://www.imdb.com/search/title?genres=western&title_type=feature&sort=moviemeter, asc'\n",
    "\n",
    "    elif(emotion == \"Surprise\"):\n",
    "        urlhere = 'http://www.imdb.com/search/title?genres=film_noir&title_type=feature&sort=moviemeter, asc'\n",
    "\n",
    "    response = HTTP.get(urlhere)\n",
    "    data = response.text\n",
    "    soup = sp(data, \"lxml\")\n",
    "    title = soup.find_all(\"a\", attrs = {\"href\" : re.compile(r'\\/title\\/tt+\\d*\\/')})\n",
    "    return title"
   ]
  },
  {
   "cell_type": "code",
   "execution_count": null,
   "metadata": {},
   "outputs": [],
   "source": [
    "# Driver Function\n",
    "if __name__ == '__main__':\n",
    "\n",
    "    emotion = input(\"Enter the cartegory of Movie: \")\n",
    "    a = main(emotion)\n",
    "    count = 0\n",
    "\n",
    "    if(emotion == \"Disgust\"):\n",
    "\n",
    "        for i in a:\n",
    "\n",
    "            tmp = str(i).split('>;')\n",
    "\n",
    "            if(len(tmp) == 3):\n",
    "                print(tmp[1][:-3])\n",
    "\n",
    "            if(count > 13):\n",
    "                break\n",
    "            count += 1\n",
    "    else:\n",
    "        for i in a:\n",
    "            tmp = str(i).split('>')\n",
    "\n",
    "            if(len(tmp) == 3):\n",
    "                print(tmp[1][:-3])\n",
    "\n",
    "            if(count > 11) & 0xFF == ord('q'):\n",
    "                break\n",
    "            count+=1\n",
    "        "
   ]
  },
  {
   "cell_type": "code",
   "execution_count": null,
   "metadata": {},
   "outputs": [],
   "source": []
  }
 ],
 "metadata": {
  "kernelspec": {
   "display_name": "Python 3",
   "language": "python",
   "name": "python3"
  },
  "language_info": {
   "codemirror_mode": {
    "name": "ipython",
    "version": 3
   },
   "file_extension": ".py",
   "mimetype": "text/x-python",
   "name": "python",
   "nbconvert_exporter": "python",
   "pygments_lexer": "ipython3",
   "version": "3.8.3"
  }
 },
 "nbformat": 4,
 "nbformat_minor": 4
}
